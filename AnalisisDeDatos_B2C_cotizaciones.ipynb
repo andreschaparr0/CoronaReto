{
 "cells": [
  {
   "cell_type": "markdown",
   "metadata": {},
   "source": [
    "# Análisis de datos\n",
    "\n",
    "**Andrés Chaparro** \n",
    "\n",
    "**Juan Andrés Bernal**\n",
    "\n"
   ]
  },
  {
   "cell_type": "code",
   "execution_count": 1,
   "metadata": {},
   "outputs": [],
   "source": [
    "import numpy as np\n",
    "import pandas as pd\n",
    "\n",
    "from joblib import dump, load\n",
    "\n",
    "import matplotlib.pyplot as plt\n",
    "import seaborn as sns\n",
    "\n",
    "from sklearn.model_selection import train_test_split\n",
    "from sklearn.cluster import KMeans\n",
    "from sklearn.linear_model import LinearRegression\n",
    "from sklearn.preprocessing import MinMaxScaler\n",
    "from sklearn.pipeline import Pipeline\n",
    "from sklearn.compose import ColumnTransformer\n",
    "from sklearn.preprocessing import StandardScaler\n",
    "from sklearn.preprocessing import PolynomialFeatures\n",
    "from sklearn.metrics import mean_absolute_error, mean_squared_error, r2_score,silhouette_samples, silhouette_score\n",
    "\n",
    "import scipy.stats as stats"
   ]
  },
  {
   "cell_type": "markdown",
   "metadata": {},
   "source": [
    "# 1. Carga de datos (csv)\n",
    "Se cargan la base de datos (txt) para trabajar con estos"
   ]
  },
  {
   "cell_type": "code",
   "execution_count": 2,
   "metadata": {},
   "outputs": [
    {
     "name": "stdout",
     "output_type": "stream",
     "text": [
      "\n",
      "Shape of B2C quotations data: (180387, 11)\n"
     ]
    }
   ],
   "source": [
    "direccion_B2C_cotizaciones = 'Datos/base_2_cotizaciones.txt'\n",
    "\n",
    "data_original_B2C_cotizaciones = pd.read_csv(direccion_B2C_cotizaciones, sep=\"\\t\", encoding='utf-8')\n",
    "\n",
    "print(\"\\nShape of B2C quotations data:\", data_original_B2C_cotizaciones.shape) \n"
   ]
  },
  {
   "cell_type": "code",
   "execution_count": 3,
   "metadata": {},
   "outputs": [
    {
     "data": {
      "text/html": [
       "<div>\n",
       "<style scoped>\n",
       "    .dataframe tbody tr th:only-of-type {\n",
       "        vertical-align: middle;\n",
       "    }\n",
       "\n",
       "    .dataframe tbody tr th {\n",
       "        vertical-align: top;\n",
       "    }\n",
       "\n",
       "    .dataframe thead th {\n",
       "        text-align: right;\n",
       "    }\n",
       "</style>\n",
       "<table border=\"1\" class=\"dataframe\">\n",
       "  <thead>\n",
       "    <tr style=\"text-align: right;\">\n",
       "      <th></th>\n",
       "      <th>cotizacion</th>\n",
       "      <th>estado_cotizacion</th>\n",
       "      <th>id</th>\n",
       "      <th>fecha_creacion</th>\n",
       "      <th>fecha_modificacion</th>\n",
       "      <th>categoria_macro</th>\n",
       "      <th>categoria</th>\n",
       "      <th>producto</th>\n",
       "      <th>cantidad</th>\n",
       "      <th>precio</th>\n",
       "      <th>valor</th>\n",
       "    </tr>\n",
       "  </thead>\n",
       "  <tbody>\n",
       "    <tr>\n",
       "      <th>0</th>\n",
       "      <td>1381861.0</td>\n",
       "      <td>Cotización Ganada</td>\n",
       "      <td>91587</td>\n",
       "      <td>1972-08-05 12:25:47.700</td>\n",
       "      <td>1972-08-05 13:37:35</td>\n",
       "      <td>categoria_macro_4</td>\n",
       "      <td>categoria_9</td>\n",
       "      <td>producto_524</td>\n",
       "      <td>1.0</td>\n",
       "      <td>34.957429</td>\n",
       "      <td>34.957429</td>\n",
       "    </tr>\n",
       "    <tr>\n",
       "      <th>1</th>\n",
       "      <td>1381861.0</td>\n",
       "      <td>Cotización Ganada</td>\n",
       "      <td>91587</td>\n",
       "      <td>1972-08-05 12:25:47.700</td>\n",
       "      <td>1972-08-05 13:37:35</td>\n",
       "      <td>categoria_macro_4</td>\n",
       "      <td>categoria_11</td>\n",
       "      <td>producto_124</td>\n",
       "      <td>1.0</td>\n",
       "      <td>2.262000</td>\n",
       "      <td>2.262000</td>\n",
       "    </tr>\n",
       "    <tr>\n",
       "      <th>2</th>\n",
       "      <td>1381861.0</td>\n",
       "      <td>Cotización Ganada</td>\n",
       "      <td>91587</td>\n",
       "      <td>1972-08-05 12:25:47.700</td>\n",
       "      <td>1972-08-05 13:37:35</td>\n",
       "      <td>categoria_macro_4</td>\n",
       "      <td>categoria_10</td>\n",
       "      <td>producto_5085</td>\n",
       "      <td>1.0</td>\n",
       "      <td>40.600000</td>\n",
       "      <td>40.600000</td>\n",
       "    </tr>\n",
       "    <tr>\n",
       "      <th>3</th>\n",
       "      <td>1381861.0</td>\n",
       "      <td>Cotización Ganada</td>\n",
       "      <td>91587</td>\n",
       "      <td>1972-08-05 12:25:47.700</td>\n",
       "      <td>1972-08-05 13:37:35</td>\n",
       "      <td>categoria_macro_4</td>\n",
       "      <td>categoria_11</td>\n",
       "      <td>producto_188</td>\n",
       "      <td>1.0</td>\n",
       "      <td>7.863143</td>\n",
       "      <td>7.863143</td>\n",
       "    </tr>\n",
       "    <tr>\n",
       "      <th>4</th>\n",
       "      <td>1381864.0</td>\n",
       "      <td>Cotización Ganada</td>\n",
       "      <td>93623</td>\n",
       "      <td>1972-08-05 14:36:57.273</td>\n",
       "      <td>1972-08-05 15:06:26</td>\n",
       "      <td>categoria_macro_4</td>\n",
       "      <td>categoria_10</td>\n",
       "      <td>producto_391</td>\n",
       "      <td>1.0</td>\n",
       "      <td>63.932571</td>\n",
       "      <td>63.932571</td>\n",
       "    </tr>\n",
       "  </tbody>\n",
       "</table>\n",
       "</div>"
      ],
      "text/plain": [
       "   cotizacion  estado_cotizacion     id           fecha_creacion  \\\n",
       "0   1381861.0  Cotización Ganada  91587  1972-08-05 12:25:47.700   \n",
       "1   1381861.0  Cotización Ganada  91587  1972-08-05 12:25:47.700   \n",
       "2   1381861.0  Cotización Ganada  91587  1972-08-05 12:25:47.700   \n",
       "3   1381861.0  Cotización Ganada  91587  1972-08-05 12:25:47.700   \n",
       "4   1381864.0  Cotización Ganada  93623  1972-08-05 14:36:57.273   \n",
       "\n",
       "    fecha_modificacion    categoria_macro     categoria       producto  \\\n",
       "0  1972-08-05 13:37:35  categoria_macro_4   categoria_9   producto_524   \n",
       "1  1972-08-05 13:37:35  categoria_macro_4  categoria_11   producto_124   \n",
       "2  1972-08-05 13:37:35  categoria_macro_4  categoria_10  producto_5085   \n",
       "3  1972-08-05 13:37:35  categoria_macro_4  categoria_11   producto_188   \n",
       "4  1972-08-05 15:06:26  categoria_macro_4  categoria_10   producto_391   \n",
       "\n",
       "   cantidad     precio      valor  \n",
       "0       1.0  34.957429  34.957429  \n",
       "1       1.0   2.262000   2.262000  \n",
       "2       1.0  40.600000  40.600000  \n",
       "3       1.0   7.863143   7.863143  \n",
       "4       1.0  63.932571  63.932571  "
      ]
     },
     "execution_count": 3,
     "metadata": {},
     "output_type": "execute_result"
    }
   ],
   "source": [
    "data_original_B2C_cotizaciones.head()"
   ]
  },
  {
   "cell_type": "markdown",
   "metadata": {},
   "source": [
    "# 2. Entendimientos de los datos "
   ]
  },
  {
   "cell_type": "code",
   "execution_count": 4,
   "metadata": {},
   "outputs": [
    {
     "data": {
      "text/html": [
       "<div>\n",
       "<style scoped>\n",
       "    .dataframe tbody tr th:only-of-type {\n",
       "        vertical-align: middle;\n",
       "    }\n",
       "\n",
       "    .dataframe tbody tr th {\n",
       "        vertical-align: top;\n",
       "    }\n",
       "\n",
       "    .dataframe thead th {\n",
       "        text-align: right;\n",
       "    }\n",
       "</style>\n",
       "<table border=\"1\" class=\"dataframe\">\n",
       "  <thead>\n",
       "    <tr style=\"text-align: right;\">\n",
       "      <th></th>\n",
       "      <th>cotizacion</th>\n",
       "      <th>id</th>\n",
       "      <th>cantidad</th>\n",
       "      <th>precio</th>\n",
       "      <th>valor</th>\n",
       "    </tr>\n",
       "  </thead>\n",
       "  <tbody>\n",
       "    <tr>\n",
       "      <th>count</th>\n",
       "      <td>1.803870e+05</td>\n",
       "      <td>180387.000000</td>\n",
       "      <td>180387.000000</td>\n",
       "      <td>180387.000000</td>\n",
       "      <td>180387.000000</td>\n",
       "    </tr>\n",
       "    <tr>\n",
       "      <th>mean</th>\n",
       "      <td>5.078489e+06</td>\n",
       "      <td>201958.376563</td>\n",
       "      <td>30.337815</td>\n",
       "      <td>18.897239</td>\n",
       "      <td>36.905377</td>\n",
       "    </tr>\n",
       "    <tr>\n",
       "      <th>std</th>\n",
       "      <td>2.330758e+06</td>\n",
       "      <td>131817.410108</td>\n",
       "      <td>1128.197335</td>\n",
       "      <td>43.212077</td>\n",
       "      <td>884.640566</td>\n",
       "    </tr>\n",
       "    <tr>\n",
       "      <th>min</th>\n",
       "      <td>1.330102e+06</td>\n",
       "      <td>9.000000</td>\n",
       "      <td>0.000000</td>\n",
       "      <td>0.000000</td>\n",
       "      <td>0.000000</td>\n",
       "    </tr>\n",
       "    <tr>\n",
       "      <th>25%</th>\n",
       "      <td>3.014320e+06</td>\n",
       "      <td>90794.500000</td>\n",
       "      <td>1.000000</td>\n",
       "      <td>1.702715</td>\n",
       "      <td>2.850289</td>\n",
       "    </tr>\n",
       "    <tr>\n",
       "      <th>50%</th>\n",
       "      <td>4.625202e+06</td>\n",
       "      <td>156082.000000</td>\n",
       "      <td>1.000000</td>\n",
       "      <td>6.844000</td>\n",
       "      <td>9.495428</td>\n",
       "    </tr>\n",
       "    <tr>\n",
       "      <th>75%</th>\n",
       "      <td>7.073812e+06</td>\n",
       "      <td>357146.000000</td>\n",
       "      <td>2.000000</td>\n",
       "      <td>19.214571</td>\n",
       "      <td>27.657714</td>\n",
       "    </tr>\n",
       "    <tr>\n",
       "      <th>max</th>\n",
       "      <td>9.660005e+06</td>\n",
       "      <td>429016.000000</td>\n",
       "      <td>438000.000000</td>\n",
       "      <td>3087.911715</td>\n",
       "      <td>366411.673079</td>\n",
       "    </tr>\n",
       "  </tbody>\n",
       "</table>\n",
       "</div>"
      ],
      "text/plain": [
       "         cotizacion             id       cantidad         precio  \\\n",
       "count  1.803870e+05  180387.000000  180387.000000  180387.000000   \n",
       "mean   5.078489e+06  201958.376563      30.337815      18.897239   \n",
       "std    2.330758e+06  131817.410108    1128.197335      43.212077   \n",
       "min    1.330102e+06       9.000000       0.000000       0.000000   \n",
       "25%    3.014320e+06   90794.500000       1.000000       1.702715   \n",
       "50%    4.625202e+06  156082.000000       1.000000       6.844000   \n",
       "75%    7.073812e+06  357146.000000       2.000000      19.214571   \n",
       "max    9.660005e+06  429016.000000  438000.000000    3087.911715   \n",
       "\n",
       "               valor  \n",
       "count  180387.000000  \n",
       "mean       36.905377  \n",
       "std       884.640566  \n",
       "min         0.000000  \n",
       "25%         2.850289  \n",
       "50%         9.495428  \n",
       "75%        27.657714  \n",
       "max    366411.673079  "
      ]
     },
     "execution_count": 4,
     "metadata": {},
     "output_type": "execute_result"
    }
   ],
   "source": [
    "data_original_B2C_cotizaciones.describe()"
   ]
  },
  {
   "cell_type": "code",
   "execution_count": 5,
   "metadata": {},
   "outputs": [
    {
     "name": "stdout",
     "output_type": "stream",
     "text": [
      "Número de variables continuas: 5\n",
      "Número de variables categóricas: 6\n",
      "\n",
      "Variables categóricas:\n",
      "- estado_cotizacion: 4 categorías únicas\n",
      "- fecha_creacion: 88028 categorías únicas\n",
      "- fecha_modificacion: 87589 categorías únicas\n",
      "- categoria_macro: 4 categorías únicas\n",
      "- categoria: 14 categorías únicas\n",
      "- producto: 2735 categorías únicas\n"
     ]
    }
   ],
   "source": [
    "# Para variables numéricas (continuas)\n",
    "continuous_vars = data_original_B2C_cotizaciones.select_dtypes(include=['int64', 'float64'])\n",
    "print(f\"Número de variables continuas: {len(continuous_vars.columns)}\")\n",
    "\n",
    "# Para variables categóricas\n",
    "categorical_vars = data_original_B2C_cotizaciones.select_dtypes(include=['object', 'category'])\n",
    "print(f\"Número de variables categóricas: {len(categorical_vars.columns)}\")\n",
    "\n",
    "# Para mostrar cuáles son las variables categóricas\n",
    "print(\"\\nVariables categóricas:\")\n",
    "for col in categorical_vars.columns:\n",
    "    unique_values = len(data_original_B2C_cotizaciones[col].unique())\n",
    "    print(f\"- {col}: {unique_values} categorías únicas\")"
   ]
  },
  {
   "cell_type": "code",
   "execution_count": 6,
   "metadata": {},
   "outputs": [
    {
     "name": "stdout",
     "output_type": "stream",
     "text": [
      "\n",
      "Categorías en estado_cotizacion:\n",
      "estado_cotizacion\n",
      "Cotización Ganada      140116\n",
      "Cotización Expirada     28626\n",
      "Abierta                  5831\n",
      "Cotización Perdida       5814\n",
      "Name: count, dtype: int64\n"
     ]
    }
   ],
   "source": [
    "# Obtener el conteo de cada categoría en estado_cotizacion\n",
    "print(\"\\nCategorías en estado_cotizacion:\")\n",
    "print(data_original_B2C_cotizaciones['estado_cotizacion'].value_counts())\n"
   ]
  },
  {
   "cell_type": "code",
   "execution_count": 7,
   "metadata": {},
   "outputs": [
    {
     "name": "stdout",
     "output_type": "stream",
     "text": [
      "\n",
      "Categorías en Producto:\n",
      "producto\n",
      "producto_28      5603\n",
      "producto_277     5345\n",
      "producto_4637    2862\n",
      "producto_188     2822\n",
      "producto_27      2789\n",
      "                 ... \n",
      "producto_5634       1\n",
      "producto_6654       1\n",
      "producto_6272       1\n",
      "producto_3854       1\n",
      "producto_7132       1\n",
      "Name: count, Length: 2735, dtype: int64\n"
     ]
    }
   ],
   "source": [
    "# Obtener el conteo de cada categoría en estado_cotizacion\n",
    "print(\"\\nCategorías en Producto:\")\n",
    "print(data_original_B2C_cotizaciones['producto'].value_counts())\n"
   ]
  },
  {
   "cell_type": "markdown",
   "metadata": {},
   "source": [
    "### 2.1 Datos Nulos"
   ]
  },
  {
   "cell_type": "code",
   "execution_count": 8,
   "metadata": {},
   "outputs": [
    {
     "name": "stdout",
     "output_type": "stream",
     "text": [
      "\n",
      "Cantidad de datos nulos:\n"
     ]
    },
    {
     "data": {
      "text/plain": [
       "cotizacion            0\n",
       "estado_cotizacion     0\n",
       "id                    0\n",
       "fecha_creacion        0\n",
       "fecha_modificacion    0\n",
       "categoria_macro       0\n",
       "categoria             0\n",
       "producto              0\n",
       "cantidad              0\n",
       "precio                0\n",
       "valor                 0\n",
       "dtype: int64"
      ]
     },
     "execution_count": 8,
     "metadata": {},
     "output_type": "execute_result"
    }
   ],
   "source": [
    "features = data_original_B2C_cotizaciones.columns\n",
    "print(\"\\nCantidad de datos nulos:\")\n",
    "data_original_B2C_cotizaciones[features].isnull().sum() "
   ]
  },
  {
   "cell_type": "markdown",
   "metadata": {},
   "source": [
    "### 2.2 HeatMap de Correlaciones"
   ]
  },
  {
   "cell_type": "code",
   "execution_count": 9,
   "metadata": {},
   "outputs": [
    {
     "data": {
      "image/png": "[encoded data removed]",
      "text/plain": [
       "<Figure size 1200x800 with 2 Axes>"
      ]
     },
     "metadata": {},
     "output_type": "display_data"
    }
   ],
   "source": [
    "numeric_columns = data_original_B2C_cotizaciones.select_dtypes(include=['float64', 'int64']).columns\n",
    "plt.figure(figsize=(12, 8))\n",
    "sns.heatmap(data_original_B2C_cotizaciones[numeric_columns].corr(), annot=True, cmap=\"coolwarm\", fmt=\".2f\", linewidths=0.5)\n",
    "plt.title(\"Matriz de correlación\")\n",
    "plt.show()\n"
   ]
  },
  {
   "cell_type": "markdown",
   "metadata": {},
   "source": [
    "# Limpieza de datos"
   ]
  },
  {
   "cell_type": "code",
   "execution_count": 10,
   "metadata": {},
   "outputs": [
    {
     "data": {
      "text/html": [
       "<div>\n",
       "<style scoped>\n",
       "    .dataframe tbody tr th:only-of-type {\n",
       "        vertical-align: middle;\n",
       "    }\n",
       "\n",
       "    .dataframe tbody tr th {\n",
       "        vertical-align: top;\n",
       "    }\n",
       "\n",
       "    .dataframe thead th {\n",
       "        text-align: right;\n",
       "    }\n",
       "</style>\n",
       "<table border=\"1\" class=\"dataframe\">\n",
       "  <thead>\n",
       "    <tr style=\"text-align: right;\">\n",
       "      <th></th>\n",
       "      <th>Variable</th>\n",
       "      <th>Cantidad de Outliers</th>\n",
       "      <th>Porcentaje de Outliers</th>\n",
       "    </tr>\n",
       "  </thead>\n",
       "  <tbody>\n",
       "    <tr>\n",
       "      <th>0</th>\n",
       "      <td>cotizacion</td>\n",
       "      <td>0</td>\n",
       "      <td>0.00</td>\n",
       "    </tr>\n",
       "    <tr>\n",
       "      <th>1</th>\n",
       "      <td>id</td>\n",
       "      <td>0</td>\n",
       "      <td>0.00</td>\n",
       "    </tr>\n",
       "    <tr>\n",
       "      <th>2</th>\n",
       "      <td>cantidad</td>\n",
       "      <td>16787</td>\n",
       "      <td>9.31</td>\n",
       "    </tr>\n",
       "    <tr>\n",
       "      <th>3</th>\n",
       "      <td>precio</td>\n",
       "      <td>17267</td>\n",
       "      <td>9.57</td>\n",
       "    </tr>\n",
       "    <tr>\n",
       "      <th>4</th>\n",
       "      <td>valor</td>\n",
       "      <td>19433</td>\n",
       "      <td>10.77</td>\n",
       "    </tr>\n",
       "  </tbody>\n",
       "</table>\n",
       "</div>"
      ],
      "text/plain": [
       "     Variable  Cantidad de Outliers  Porcentaje de Outliers\n",
       "0  cotizacion                     0                    0.00\n",
       "1          id                     0                    0.00\n",
       "2    cantidad                 16787                    9.31\n",
       "3      precio                 17267                    9.57\n",
       "4       valor                 19433                   10.77"
      ]
     },
     "execution_count": 10,
     "metadata": {},
     "output_type": "execute_result"
    }
   ],
   "source": [
    "import numpy as np\n",
    "import pandas as pd\n",
    "\n",
    "# Función para contar outliers usando IQR\n",
    "def contar_outliers_iqr(df):\n",
    "    outliers_por_variable = {}\n",
    "    \n",
    "    for columna in df.select_dtypes(include=np.number):  # Solo variables numéricas\n",
    "        Q1 = df[columna].quantile(0.25)\n",
    "        Q3 = df[columna].quantile(0.75)\n",
    "        IQR = Q3 - Q1\n",
    "        limite_inferior = Q1 - 1.5 * IQR\n",
    "        limite_superior = Q3 + 1.5 * IQR\n",
    "\n",
    "        outliers = df[(df[columna] < limite_inferior) | (df[columna] > limite_superior)]\n",
    "        outliers_por_variable[columna] = len(outliers)\n",
    "    \n",
    "    return outliers_por_variable\n",
    "\n",
    "# Contar outliers en cada variable de datos_limpios2\n",
    "outliers = contar_outliers_iqr(data_original_B2C_cotizaciones)\n",
    "\n",
    "# Mostrar resultados en un DataFrame\n",
    "df_outliers = pd.DataFrame(outliers.items(), columns=[\"Variable\", \"Cantidad de Outliers\"])\n",
    "df_outliers[\"Porcentaje de Outliers\"] = (df_outliers[\"Cantidad de Outliers\"] / len(data_original_B2C_cotizaciones) * 100).round(2)\n",
    "df_outliers\n"
   ]
  },
  {
   "cell_type": "markdown",
   "metadata": {},
   "source": [
    "# Ingenieria de Caracteres"
   ]
  },
  {
   "cell_type": "code",
   "execution_count": 11,
   "metadata": {},
   "outputs": [
    {
     "data": {
      "text/html": [
       "<div>\n",
       "<style scoped>\n",
       "    .dataframe tbody tr th:only-of-type {\n",
       "        vertical-align: middle;\n",
       "    }\n",
       "\n",
       "    .dataframe tbody tr th {\n",
       "        vertical-align: top;\n",
       "    }\n",
       "\n",
       "    .dataframe thead th {\n",
       "        text-align: right;\n",
       "    }\n",
       "</style>\n",
       "<table border=\"1\" class=\"dataframe\">\n",
       "  <thead>\n",
       "    <tr style=\"text-align: right;\">\n",
       "      <th></th>\n",
       "      <th>cotizacion</th>\n",
       "      <th>estado_cotizacion</th>\n",
       "      <th>id</th>\n",
       "      <th>fecha_creacion</th>\n",
       "      <th>fecha_modificacion</th>\n",
       "      <th>categoria_macro</th>\n",
       "      <th>categoria</th>\n",
       "      <th>producto</th>\n",
       "      <th>cantidad</th>\n",
       "      <th>precio</th>\n",
       "      <th>valor</th>\n",
       "    </tr>\n",
       "  </thead>\n",
       "  <tbody>\n",
       "    <tr>\n",
       "      <th>0</th>\n",
       "      <td>1381861.0</td>\n",
       "      <td>Cotización Ganada</td>\n",
       "      <td>91587</td>\n",
       "      <td>1972-08-05 12:25:47.700</td>\n",
       "      <td>1972-08-05 13:37:35</td>\n",
       "      <td>categoria_macro_4</td>\n",
       "      <td>categoria_9</td>\n",
       "      <td>producto_524</td>\n",
       "      <td>1.0</td>\n",
       "      <td>34.957429</td>\n",
       "      <td>34.957429</td>\n",
       "    </tr>\n",
       "  </tbody>\n",
       "</table>\n",
       "</div>"
      ],
      "text/plain": [
       "   cotizacion  estado_cotizacion     id           fecha_creacion  \\\n",
       "0   1381861.0  Cotización Ganada  91587  1972-08-05 12:25:47.700   \n",
       "\n",
       "    fecha_modificacion    categoria_macro    categoria      producto  \\\n",
       "0  1972-08-05 13:37:35  categoria_macro_4  categoria_9  producto_524   \n",
       "\n",
       "   cantidad     precio      valor  \n",
       "0       1.0  34.957429  34.957429  "
      ]
     },
     "execution_count": 11,
     "metadata": {},
     "output_type": "execute_result"
    }
   ],
   "source": [
    "data_original_B2C_cotizaciones.head(1)"
   ]
  },
  {
   "cell_type": "code",
   "execution_count": 12,
   "metadata": {},
   "outputs": [],
   "source": [
    "df_productos = data_original_B2C_cotizaciones.groupby('producto').agg(\n",
    "    total_cotizaciones=('producto', 'count'),\n",
    "    cot_ganada=('estado_cotizacion', lambda x: (x == 'Cotización Ganada').sum()),\n",
    "    cot_expirada=('estado_cotizacion', lambda x: (x == 'Cotización Expirada').sum()),\n",
    "    cot_abierta=('estado_cotizacion', lambda x: (x == 'Abierta').sum()),\n",
    "    cot_perdida=('estado_cotizacion', lambda x: (x == 'Cotización Perdida').sum())\n",
    ").reset_index()\n"
   ]
  },
  {
   "cell_type": "code",
   "execution_count": 13,
   "metadata": {},
   "outputs": [
    {
     "name": "stdout",
     "output_type": "stream",
     "text": [
      "Los 10 productos más cotizados:\n",
      "           producto  total_cotizaciones  cot_ganada  cot_expirada  \\\n",
      "782     producto_28                5603        4903           437   \n",
      "766    producto_277                5345        4477           591   \n",
      "1563  producto_4637                2862        2593           172   \n",
      "379    producto_188                2822        2247           400   \n",
      "730     producto_27                2789        2414           225   \n",
      "872     producto_30                2636        2128           329   \n",
      "579    producto_238                2280        1872           307   \n",
      "2654   producto_847                2256        1701           396   \n",
      "2368   producto_648                2219        1761           304   \n",
      "94     producto_124                1802        1438           269   \n",
      "\n",
      "      cot_abierta  cot_perdida  \n",
      "782            98          165  \n",
      "766           125          152  \n",
      "1563           50           47  \n",
      "379            90           85  \n",
      "730            47          103  \n",
      "872            84           95  \n",
      "579            46           55  \n",
      "2654           89           70  \n",
      "2368           68           86  \n",
      "94             60           35  \n"
     ]
    }
   ],
   "source": [
    "# Ordenar productos por total de cotizaciones de mayor a menor\n",
    "productos_mas_cotizados = df_productos.sort_values('total_cotizaciones', ascending=False)\n",
    "\n",
    "# Mostrar los 10 productos más cotizados\n",
    "print(\"Los 10 productos más cotizados:\")\n",
    "print(productos_mas_cotizados.head(10))\n"
   ]
  }
 ],
 "metadata": {
  "kernelspec": {
   "display_name": "Python 3",
   "language": "python",
   "name": "python3"
  },
  "language_info": {
   "codemirror_mode": {
    "name": "ipython",
    "version": 3
   },
   "file_extension": ".py",
   "mimetype": "text/x-python",
   "name": "python",
   "nbconvert_exporter": "python",
   "pygments_lexer": "ipython3",
   "version": "3.11.9"
  }
 },
 "nbformat": 4,
 "nbformat_minor": 2
}
